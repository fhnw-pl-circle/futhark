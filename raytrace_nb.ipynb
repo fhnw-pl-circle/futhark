{
 "cells": [
  {
   "cell_type": "code",
   "execution_count": null,
   "metadata": {},
   "outputs": [],
   "source": [
    "import raytrace\n",
    "import matplotlib.pyplot as plt\n",
    "import numpy as np\n",
    "import pyopencl\n",
    "%matplotlib inline"
   ]
  },
  {
   "cell_type": "code",
   "execution_count": null,
   "metadata": {},
   "outputs": [],
   "source": [
    "o = raytrace.raytrace()"
   ]
  },
  {
   "cell_type": "code",
   "execution_count": null,
   "metadata": {},
   "outputs": [],
   "source": [
    "%%timeit\n",
    "result = o.main(5000, 5000)"
   ]
  },
  {
   "cell_type": "code",
   "execution_count": null,
   "metadata": {},
   "outputs": [],
   "source": [
    "result = o.main(500, 500)\n",
    "\n",
    "print(result.shape, result.dtype)\n",
    "print(type(result))\n",
    "\n",
    "if isinstance(result, pyopencl.array.Array):\n",
    "    image = result.get() # download opencl array from gpu\n",
    "else:\n",
    "    image = result # is numpy array allready\n",
    "\n",
    "plt.imshow(image)"
   ]
  },
  {
   "cell_type": "code",
   "execution_count": null,
   "metadata": {},
   "outputs": [],
   "source": [
    "import numba\n",
    "\n",
    "@numba.njit\n",
    "def raytrace_np(rows, cols):\n",
    "    np_image = np.zeros((rows, cols, 3), dtype=np.float32)\n",
    "    ray_origin = np.array([0.0, 0.0, 1.0])\n",
    "    lightDir = np.array([-1.0, -1.0, -1.0])\n",
    "    lightDir = lightDir / np.linalg.norm(lightDir)\n",
    "    sphere_radius = 0.5\n",
    "\n",
    "    for n in range(rows):\n",
    "        for m in range(cols):\n",
    "            x = (m / cols) * 2.0 - 1.0\n",
    "            y = (n / rows) * 2.0 - 1.0\n",
    "            ray_direction = np.array([x, y, -1.0])\n",
    "            a = np.dot(ray_direction, ray_direction)\n",
    "            b = 2.0 * np.dot(ray_origin, ray_direction)\n",
    "            c = np.dot(ray_origin, ray_origin) - sphere_radius * sphere_radius\n",
    "            discriminant = b * b - 4.0 * a * c\n",
    "            if discriminant < 0.0:\n",
    "                np_image[n,m] = np.array([0, 0, 0])\n",
    "            else:\n",
    "                closestT = (-b - np.sqrt(discriminant)) / (2.0 * a)\n",
    "                _t0 = (-b + np.sqrt(discriminant)) / (2.0 * a) # currently unused\n",
    "                hitPoint = ray_origin + (ray_direction * closestT)\n",
    "                normal = hitPoint / np.linalg.norm(hitPoint)\n",
    "                lightIntensity = max(np.dot(normal, -lightDir), 0.0)\n",
    "                np_image[n,m] = np.array([lightIntensity, 0, lightIntensity])\n",
    "    \n",
    "    return np_image\n",
    "\n",
    "np_image = raytrace_np(500, 500)\n",
    "print(np_image.shape, np_image.dtype)\n",
    "plt.imshow(np_image)"
   ]
  },
  {
   "cell_type": "code",
   "execution_count": null,
   "metadata": {},
   "outputs": [],
   "source": [
    "%%time\n",
    "result = raytrace_np(5000, 5000)"
   ]
  }
 ],
 "metadata": {
  "kernelspec": {
   "display_name": "Python 3",
   "language": "python",
   "name": "python3"
  },
  "language_info": {
   "codemirror_mode": {
    "name": "ipython",
    "version": 3
   },
   "file_extension": ".py",
   "mimetype": "text/x-python",
   "name": "python",
   "nbconvert_exporter": "python",
   "pygments_lexer": "ipython3",
   "version": "3.7.3"
  }
 },
 "nbformat": 4,
 "nbformat_minor": 2
}
